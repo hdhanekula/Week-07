{
 "cells": [
  {
   "cell_type": "markdown",
   "id": "73fa2b84",
   "metadata": {},
   "source": [
    "# Week 7 Assignment"
   ]
  },
  {
   "cell_type": "markdown",
   "id": "f48ee1c5",
   "metadata": {},
   "source": [
    "This week we are collecting some data from Reddit and doing some basic EDA on it. You should:\n",
    "\n",
    "- create your Reddit account and API keys\n",
    "- collect data from a subreddit of your choice\n",
    "    - at a minimum, collect the posts from the subreddit; optionally collect comments on the posts\n",
    "- save the data to a SQLite3 database\n",
    "- perform some basic EDA on the data\n",
    "    - create at least 2 plots\n",
    "- write a short analysis at the end describing the process and results\n",
    "- turn in the Jupyter Notebook and PDF printout or export to the week 7 dropbox\n",
    "\n",
    "***Optional* advanced section**\n",
    "- Practice SQL queries and select a subsection of the posts you collected\n",
    "- Modify your code to collect data beyond the 1000 item limit\n",
    "- Collect comments from the posts for analysis next week and do some EDA on the comments (e.g. who is the top commenter, which commenters have the most up and down votes or most controversial posts, etc)\n",
    "- examine n-grams ([bigrams](https://stackoverflow.com/a/37651184/4549682), trigrams) or [collocations](https://www.geeksforgeeks.org/nlp-word-collocations/)\n",
    "\n",
    "Note: There is no solution file for this week."
   ]
  },
  {
   "cell_type": "code",
   "execution_count": 63,
   "id": "7c87d583",
   "metadata": {},
   "outputs": [],
   "source": [
    "#%pip install praw matplotlib wordcloud textblob pandas"
   ]
  },
  {
   "cell_type": "code",
   "execution_count": 64,
   "id": "9a182cb8",
   "metadata": {},
   "outputs": [],
   "source": [
    "import praw\n",
    "import pandas as pd\n",
    "import credentials"
   ]
  },
  {
   "cell_type": "code",
   "execution_count": 65,
   "id": "3215412f",
   "metadata": {},
   "outputs": [],
   "source": [
    "reddit = praw.Reddit(client_id=credentials.client_id,\n",
    "                     client_secret=credentials.client_secret,\n",
    "                     user_agent=credentials.user_agent)"
   ]
  },
  {
   "cell_type": "code",
   "execution_count": 66,
   "id": "5853fc06",
   "metadata": {},
   "outputs": [],
   "source": [
    "co_subreddit = reddit.subreddit('Samsung').hot(limit=10)\n"
   ]
  },
  {
   "cell_type": "code",
   "execution_count": 67,
   "id": "3d91c5c0",
   "metadata": {},
   "outputs": [
    {
     "name": "stdout",
     "output_type": "stream",
     "text": [
      "Daily Support Thread | March 05, 2025 1\n",
      "Daily Support Thread | February 08, 2025 2\n",
      "Why is the pocket detection so pathetic? 28\n",
      "S22 or S22+ 3\n",
      "MIT Study--improving sleep and cognition with a Galaxy Watch app 72\n",
      "Samsung TV keeps resetting picture options 1\n",
      "New Phone S24 Ultra or S25 Ultra 2\n",
      "Thinking of switching to S25 coming from iphone 14 pro 16\n",
      "Anyone using Spigen's GlasTR EZ fit screen protector? 1\n",
      "Samsung One UI 7 Beta Rolls Out to More Galaxy Devices [Stable release in April] 24\n"
     ]
    }
   ],
   "source": [
    "for post in co_subreddit:\n",
    "    print(post.title, post.score)"
   ]
  },
  {
   "cell_type": "code",
   "execution_count": 68,
   "id": "4eff73a0",
   "metadata": {},
   "outputs": [
    {
     "data": {
      "text/plain": [
       "[]"
      ]
     },
     "execution_count": 68,
     "metadata": {},
     "output_type": "execute_result"
    }
   ],
   "source": [
    "list(co_subreddit)"
   ]
  },
  {
   "cell_type": "code",
   "execution_count": 69,
   "id": "8c5f8f05",
   "metadata": {},
   "outputs": [
    {
     "data": {
      "text/plain": [
       "24"
      ]
     },
     "execution_count": 69,
     "metadata": {},
     "output_type": "execute_result"
    }
   ],
   "source": [
    "post.score"
   ]
  },
  {
   "cell_type": "code",
   "execution_count": 70,
   "id": "aff82029",
   "metadata": {},
   "outputs": [
    {
     "data": {
      "text/plain": [
       "'Samsung One UI 7 Beta Rolls Out to More Galaxy Devices [Stable release in April]'"
      ]
     },
     "execution_count": 70,
     "metadata": {},
     "output_type": "execute_result"
    }
   ],
   "source": [
    "post.title"
   ]
  },
  {
   "cell_type": "code",
   "execution_count": 71,
   "id": "1bfc3cf3",
   "metadata": {},
   "outputs": [
    {
     "data": {
      "text/plain": [
       "'/r/samsung/comments/1j3ok0p/samsung_one_ui_7_beta_rolls_out_to_more_galaxy/'"
      ]
     },
     "execution_count": 71,
     "metadata": {},
     "output_type": "execute_result"
    }
   ],
   "source": [
    "post.permalink"
   ]
  },
  {
   "cell_type": "code",
   "execution_count": 72,
   "id": "074c3907",
   "metadata": {},
   "outputs": [
    {
     "name": "stdout",
     "output_type": "stream",
     "text": [
      "/r/samsung/comments/1j3ok0p/samsung_one_ui_7_beta_rolls_out_to_more_galaxy/\n"
     ]
    }
   ],
   "source": [
    "sub_url_name = post.permalink\n",
    "print(sub_url_name)"
   ]
  },
  {
   "cell_type": "code",
   "execution_count": 73,
   "id": "f1b5d213",
   "metadata": {},
   "outputs": [
    {
     "name": "stdout",
     "output_type": "stream",
     "text": [
      "https://www.reddit.com\n"
     ]
    }
   ],
   "source": [
    "base_url = 'https://www.reddit.com'\n",
    "print(base_url)"
   ]
  },
  {
   "cell_type": "code",
   "execution_count": 74,
   "id": "10d63f58",
   "metadata": {},
   "outputs": [
    {
     "name": "stdout",
     "output_type": "stream",
     "text": [
      "https://www.reddit.com/r/samsung/comments/1j3ok0p/samsung_one_ui_7_beta_rolls_out_to_more_galaxy/\n"
     ]
    }
   ],
   "source": [
    "complete_url = base_url+sub_url_name\n",
    "\n",
    "print(complete_url)"
   ]
  },
  {
   "cell_type": "code",
   "execution_count": 75,
   "id": "3569d590",
   "metadata": {},
   "outputs": [],
   "source": [
    "reddit_data = {'title': [],\n",
    "              'link': [],\n",
    "              'author': [],\n",
    "              'n_comments': [],\n",
    "              'score': [],\n",
    "              'text': []}\n",
    "\n",
    "\n",
    "co_subreddit = reddit.subreddit('Samsung').hot(limit=None)\n",
    "\n",
    "for post in list(co_subreddit):\n",
    "    reddit_data['title'].append(post.title)\n",
    "    reddit_data['link'].append(post.permalink)\n",
    "    if post.author is None:\n",
    "        reddit_data['author'].append('')\n",
    "    else:\n",
    "        reddit_data['author'].append(post.author.name)\n",
    "    \n",
    "    reddit_data['n_comments'].append(post.num_comments)\n",
    "    reddit_data['score'].append(post.score)\n",
    "    reddit_data['text'].append(post.selftext)"
   ]
  },
  {
   "cell_type": "code",
   "execution_count": 76,
   "id": "1a3235dc",
   "metadata": {},
   "outputs": [],
   "source": [
    "co_df = pd.DataFrame(reddit_data)"
   ]
  },
  {
   "cell_type": "code",
   "execution_count": 77,
   "id": "15a3cdfd",
   "metadata": {},
   "outputs": [
    {
     "data": {
      "text/html": [
       "<div>\n",
       "<style scoped>\n",
       "    .dataframe tbody tr th:only-of-type {\n",
       "        vertical-align: middle;\n",
       "    }\n",
       "\n",
       "    .dataframe tbody tr th {\n",
       "        vertical-align: top;\n",
       "    }\n",
       "\n",
       "    .dataframe thead th {\n",
       "        text-align: right;\n",
       "    }\n",
       "</style>\n",
       "<table border=\"1\" class=\"dataframe\">\n",
       "  <thead>\n",
       "    <tr style=\"text-align: right;\">\n",
       "      <th></th>\n",
       "      <th>title</th>\n",
       "      <th>link</th>\n",
       "      <th>author</th>\n",
       "      <th>n_comments</th>\n",
       "      <th>score</th>\n",
       "      <th>text</th>\n",
       "    </tr>\n",
       "  </thead>\n",
       "  <tbody>\n",
       "    <tr>\n",
       "      <th>0</th>\n",
       "      <td>Daily Support Thread | March 05, 2025</td>\n",
       "      <td>/r/samsung/comments/1j40khk/daily_support_thre...</td>\n",
       "      <td>AutoModerator</td>\n",
       "      <td>4</td>\n",
       "      <td>1</td>\n",
       "      <td>Welcome to the Daily Support thread for [r/Sam...</td>\n",
       "    </tr>\n",
       "    <tr>\n",
       "      <th>1</th>\n",
       "      <td>Daily Support Thread | February 08, 2025</td>\n",
       "      <td>/r/samsung/comments/1ikkwer/daily_support_thre...</td>\n",
       "      <td>AutoModerator</td>\n",
       "      <td>13</td>\n",
       "      <td>2</td>\n",
       "      <td>Welcome to the Daily Support thread for [r/Sam...</td>\n",
       "    </tr>\n",
       "    <tr>\n",
       "      <th>2</th>\n",
       "      <td>Why is the pocket detection so pathetic?</td>\n",
       "      <td>/r/samsung/comments/1j424sy/why_is_the_pocket_...</td>\n",
       "      <td>tractortyre</td>\n",
       "      <td>21</td>\n",
       "      <td>32</td>\n",
       "      <td>It happens 4-5 times a day that I pull out my ...</td>\n",
       "    </tr>\n",
       "    <tr>\n",
       "      <th>3</th>\n",
       "      <td>S22 or S22+</td>\n",
       "      <td>/r/samsung/comments/1j48cby/s22_or_s22/</td>\n",
       "      <td>cornettowaltz</td>\n",
       "      <td>3</td>\n",
       "      <td>3</td>\n",
       "      <td>Which is the better model? I know they have a ...</td>\n",
       "    </tr>\n",
       "    <tr>\n",
       "      <th>4</th>\n",
       "      <td>MIT Study--improving sleep and cognition with ...</td>\n",
       "      <td>/r/samsung/comments/1j3i3gk/mit_studyimproving...</td>\n",
       "      <td>ohsnapitsnathan</td>\n",
       "      <td>28</td>\n",
       "      <td>71</td>\n",
       "      <td>Hello! We’re a[ research group at MIT](https:/...</td>\n",
       "    </tr>\n",
       "    <tr>\n",
       "      <th>...</th>\n",
       "      <td>...</td>\n",
       "      <td>...</td>\n",
       "      <td>...</td>\n",
       "      <td>...</td>\n",
       "      <td>...</td>\n",
       "      <td>...</td>\n",
       "    </tr>\n",
       "    <tr>\n",
       "      <th>537</th>\n",
       "      <td>Wireless charging and paper</td>\n",
       "      <td>/r/samsung/comments/1ishv05/wireless_charging_...</td>\n",
       "      <td>slipka162</td>\n",
       "      <td>0</td>\n",
       "      <td>2</td>\n",
       "      <td>Hi, a little question i printed out one image ...</td>\n",
       "    </tr>\n",
       "    <tr>\n",
       "      <th>538</th>\n",
       "      <td>Can I order an S25 512GB from the UK and use i...</td>\n",
       "      <td>/r/samsung/comments/1isne8n/can_i_order_an_s25...</td>\n",
       "      <td>singleinwestchester</td>\n",
       "      <td>3</td>\n",
       "      <td>0</td>\n",
       "      <td>I don't want to order the S25+ or Ultra as I d...</td>\n",
       "    </tr>\n",
       "    <tr>\n",
       "      <th>539</th>\n",
       "      <td>So glad I switched back!</td>\n",
       "      <td>/r/samsung/comments/1is15xw/so_glad_i_switched...</td>\n",
       "      <td>TemptedMouse</td>\n",
       "      <td>22</td>\n",
       "      <td>32</td>\n",
       "      <td>How many here have made the switch either for ...</td>\n",
       "    </tr>\n",
       "    <tr>\n",
       "      <th>540</th>\n",
       "      <td>From the UK. Bought a refurbished samsung a34 ...</td>\n",
       "      <td>/r/samsung/comments/1ismn6t/from_the_uk_bought...</td>\n",
       "      <td>Ok_Squirrel_3741</td>\n",
       "      <td>1</td>\n",
       "      <td>0</td>\n",
       "      <td>I bought a refurbished samsung phone from Ebay...</td>\n",
       "    </tr>\n",
       "    <tr>\n",
       "      <th>541</th>\n",
       "      <td>my samsung phone is acting very weird</td>\n",
       "      <td>/r/samsung/comments/1isfs4w/my_samsung_phone_i...</td>\n",
       "      <td>Guus196</td>\n",
       "      <td>2</td>\n",
       "      <td>2</td>\n",
       "      <td>screen doesnt function but seems to vibrate wh...</td>\n",
       "    </tr>\n",
       "  </tbody>\n",
       "</table>\n",
       "<p>542 rows × 6 columns</p>\n",
       "</div>"
      ],
      "text/plain": [
       "                                                 title  \\\n",
       "0                Daily Support Thread | March 05, 2025   \n",
       "1             Daily Support Thread | February 08, 2025   \n",
       "2             Why is the pocket detection so pathetic?   \n",
       "3                                          S22 or S22+   \n",
       "4    MIT Study--improving sleep and cognition with ...   \n",
       "..                                                 ...   \n",
       "537                        Wireless charging and paper   \n",
       "538  Can I order an S25 512GB from the UK and use i...   \n",
       "539                           So glad I switched back!   \n",
       "540  From the UK. Bought a refurbished samsung a34 ...   \n",
       "541              my samsung phone is acting very weird   \n",
       "\n",
       "                                                  link               author  \\\n",
       "0    /r/samsung/comments/1j40khk/daily_support_thre...        AutoModerator   \n",
       "1    /r/samsung/comments/1ikkwer/daily_support_thre...        AutoModerator   \n",
       "2    /r/samsung/comments/1j424sy/why_is_the_pocket_...          tractortyre   \n",
       "3              /r/samsung/comments/1j48cby/s22_or_s22/        cornettowaltz   \n",
       "4    /r/samsung/comments/1j3i3gk/mit_studyimproving...      ohsnapitsnathan   \n",
       "..                                                 ...                  ...   \n",
       "537  /r/samsung/comments/1ishv05/wireless_charging_...            slipka162   \n",
       "538  /r/samsung/comments/1isne8n/can_i_order_an_s25...  singleinwestchester   \n",
       "539  /r/samsung/comments/1is15xw/so_glad_i_switched...         TemptedMouse   \n",
       "540  /r/samsung/comments/1ismn6t/from_the_uk_bought...     Ok_Squirrel_3741   \n",
       "541  /r/samsung/comments/1isfs4w/my_samsung_phone_i...              Guus196   \n",
       "\n",
       "     n_comments  score                                               text  \n",
       "0             4      1  Welcome to the Daily Support thread for [r/Sam...  \n",
       "1            13      2  Welcome to the Daily Support thread for [r/Sam...  \n",
       "2            21     32  It happens 4-5 times a day that I pull out my ...  \n",
       "3             3      3  Which is the better model? I know they have a ...  \n",
       "4            28     71  Hello! We’re a[ research group at MIT](https:/...  \n",
       "..          ...    ...                                                ...  \n",
       "537           0      2  Hi, a little question i printed out one image ...  \n",
       "538           3      0  I don't want to order the S25+ or Ultra as I d...  \n",
       "539          22     32  How many here have made the switch either for ...  \n",
       "540           1      0  I bought a refurbished samsung phone from Ebay...  \n",
       "541           2      2  screen doesnt function but seems to vibrate wh...  \n",
       "\n",
       "[542 rows x 6 columns]"
      ]
     },
     "execution_count": 77,
     "metadata": {},
     "output_type": "execute_result"
    }
   ],
   "source": [
    "co_df"
   ]
  },
  {
   "cell_type": "code",
   "execution_count": 78,
   "id": "b3df0846",
   "metadata": {},
   "outputs": [
    {
     "data": {
      "text/plain": [
       "542"
      ]
     },
     "execution_count": 78,
     "metadata": {},
     "output_type": "execute_result"
    }
   ],
   "source": [
    "import sqlite3\n",
    "\n",
    "con = sqlite3.connect(\"co_reddit.sqlite\")\n",
    "co_df.to_sql('posts', con, if_exists='replace', index=False)"
   ]
  },
  {
   "cell_type": "code",
   "execution_count": 79,
   "id": "ca809211",
   "metadata": {},
   "outputs": [
    {
     "data": {
      "text/html": [
       "<div>\n",
       "<style scoped>\n",
       "    .dataframe tbody tr th:only-of-type {\n",
       "        vertical-align: middle;\n",
       "    }\n",
       "\n",
       "    .dataframe tbody tr th {\n",
       "        vertical-align: top;\n",
       "    }\n",
       "\n",
       "    .dataframe thead th {\n",
       "        text-align: right;\n",
       "    }\n",
       "</style>\n",
       "<table border=\"1\" class=\"dataframe\">\n",
       "  <thead>\n",
       "    <tr style=\"text-align: right;\">\n",
       "      <th></th>\n",
       "      <th>title</th>\n",
       "      <th>link</th>\n",
       "      <th>author</th>\n",
       "      <th>n_comments</th>\n",
       "      <th>score</th>\n",
       "      <th>text</th>\n",
       "    </tr>\n",
       "  </thead>\n",
       "  <tbody>\n",
       "    <tr>\n",
       "      <th>0</th>\n",
       "      <td>Daily Support Thread | March 05, 2025</td>\n",
       "      <td>/r/samsung/comments/1j40khk/daily_support_thre...</td>\n",
       "      <td>AutoModerator</td>\n",
       "      <td>4</td>\n",
       "      <td>1</td>\n",
       "      <td>Welcome to the Daily Support thread for [r/Sam...</td>\n",
       "    </tr>\n",
       "    <tr>\n",
       "      <th>1</th>\n",
       "      <td>Daily Support Thread | February 08, 2025</td>\n",
       "      <td>/r/samsung/comments/1ikkwer/daily_support_thre...</td>\n",
       "      <td>AutoModerator</td>\n",
       "      <td>13</td>\n",
       "      <td>2</td>\n",
       "      <td>Welcome to the Daily Support thread for [r/Sam...</td>\n",
       "    </tr>\n",
       "    <tr>\n",
       "      <th>2</th>\n",
       "      <td>Why is the pocket detection so pathetic?</td>\n",
       "      <td>/r/samsung/comments/1j424sy/why_is_the_pocket_...</td>\n",
       "      <td>tractortyre</td>\n",
       "      <td>21</td>\n",
       "      <td>32</td>\n",
       "      <td>It happens 4-5 times a day that I pull out my ...</td>\n",
       "    </tr>\n",
       "    <tr>\n",
       "      <th>3</th>\n",
       "      <td>S22 or S22+</td>\n",
       "      <td>/r/samsung/comments/1j48cby/s22_or_s22/</td>\n",
       "      <td>cornettowaltz</td>\n",
       "      <td>3</td>\n",
       "      <td>3</td>\n",
       "      <td>Which is the better model? I know they have a ...</td>\n",
       "    </tr>\n",
       "    <tr>\n",
       "      <th>4</th>\n",
       "      <td>MIT Study--improving sleep and cognition with ...</td>\n",
       "      <td>/r/samsung/comments/1j3i3gk/mit_studyimproving...</td>\n",
       "      <td>ohsnapitsnathan</td>\n",
       "      <td>28</td>\n",
       "      <td>71</td>\n",
       "      <td>Hello! We’re a[ research group at MIT](https:/...</td>\n",
       "    </tr>\n",
       "    <tr>\n",
       "      <th>...</th>\n",
       "      <td>...</td>\n",
       "      <td>...</td>\n",
       "      <td>...</td>\n",
       "      <td>...</td>\n",
       "      <td>...</td>\n",
       "      <td>...</td>\n",
       "    </tr>\n",
       "    <tr>\n",
       "      <th>537</th>\n",
       "      <td>Wireless charging and paper</td>\n",
       "      <td>/r/samsung/comments/1ishv05/wireless_charging_...</td>\n",
       "      <td>slipka162</td>\n",
       "      <td>0</td>\n",
       "      <td>2</td>\n",
       "      <td>Hi, a little question i printed out one image ...</td>\n",
       "    </tr>\n",
       "    <tr>\n",
       "      <th>538</th>\n",
       "      <td>Can I order an S25 512GB from the UK and use i...</td>\n",
       "      <td>/r/samsung/comments/1isne8n/can_i_order_an_s25...</td>\n",
       "      <td>singleinwestchester</td>\n",
       "      <td>3</td>\n",
       "      <td>0</td>\n",
       "      <td>I don't want to order the S25+ or Ultra as I d...</td>\n",
       "    </tr>\n",
       "    <tr>\n",
       "      <th>539</th>\n",
       "      <td>So glad I switched back!</td>\n",
       "      <td>/r/samsung/comments/1is15xw/so_glad_i_switched...</td>\n",
       "      <td>TemptedMouse</td>\n",
       "      <td>22</td>\n",
       "      <td>32</td>\n",
       "      <td>How many here have made the switch either for ...</td>\n",
       "    </tr>\n",
       "    <tr>\n",
       "      <th>540</th>\n",
       "      <td>From the UK. Bought a refurbished samsung a34 ...</td>\n",
       "      <td>/r/samsung/comments/1ismn6t/from_the_uk_bought...</td>\n",
       "      <td>Ok_Squirrel_3741</td>\n",
       "      <td>1</td>\n",
       "      <td>0</td>\n",
       "      <td>I bought a refurbished samsung phone from Ebay...</td>\n",
       "    </tr>\n",
       "    <tr>\n",
       "      <th>541</th>\n",
       "      <td>my samsung phone is acting very weird</td>\n",
       "      <td>/r/samsung/comments/1isfs4w/my_samsung_phone_i...</td>\n",
       "      <td>Guus196</td>\n",
       "      <td>2</td>\n",
       "      <td>2</td>\n",
       "      <td>screen doesnt function but seems to vibrate wh...</td>\n",
       "    </tr>\n",
       "  </tbody>\n",
       "</table>\n",
       "<p>542 rows × 6 columns</p>\n",
       "</div>"
      ],
      "text/plain": [
       "                                                 title  \\\n",
       "0                Daily Support Thread | March 05, 2025   \n",
       "1             Daily Support Thread | February 08, 2025   \n",
       "2             Why is the pocket detection so pathetic?   \n",
       "3                                          S22 or S22+   \n",
       "4    MIT Study--improving sleep and cognition with ...   \n",
       "..                                                 ...   \n",
       "537                        Wireless charging and paper   \n",
       "538  Can I order an S25 512GB from the UK and use i...   \n",
       "539                           So glad I switched back!   \n",
       "540  From the UK. Bought a refurbished samsung a34 ...   \n",
       "541              my samsung phone is acting very weird   \n",
       "\n",
       "                                                  link               author  \\\n",
       "0    /r/samsung/comments/1j40khk/daily_support_thre...        AutoModerator   \n",
       "1    /r/samsung/comments/1ikkwer/daily_support_thre...        AutoModerator   \n",
       "2    /r/samsung/comments/1j424sy/why_is_the_pocket_...          tractortyre   \n",
       "3              /r/samsung/comments/1j48cby/s22_or_s22/        cornettowaltz   \n",
       "4    /r/samsung/comments/1j3i3gk/mit_studyimproving...      ohsnapitsnathan   \n",
       "..                                                 ...                  ...   \n",
       "537  /r/samsung/comments/1ishv05/wireless_charging_...            slipka162   \n",
       "538  /r/samsung/comments/1isne8n/can_i_order_an_s25...  singleinwestchester   \n",
       "539  /r/samsung/comments/1is15xw/so_glad_i_switched...         TemptedMouse   \n",
       "540  /r/samsung/comments/1ismn6t/from_the_uk_bought...     Ok_Squirrel_3741   \n",
       "541  /r/samsung/comments/1isfs4w/my_samsung_phone_i...              Guus196   \n",
       "\n",
       "     n_comments  score                                               text  \n",
       "0             4      1  Welcome to the Daily Support thread for [r/Sam...  \n",
       "1            13      2  Welcome to the Daily Support thread for [r/Sam...  \n",
       "2            21     32  It happens 4-5 times a day that I pull out my ...  \n",
       "3             3      3  Which is the better model? I know they have a ...  \n",
       "4            28     71  Hello! We’re a[ research group at MIT](https:/...  \n",
       "..          ...    ...                                                ...  \n",
       "537           0      2  Hi, a little question i printed out one image ...  \n",
       "538           3      0  I don't want to order the S25+ or Ultra as I d...  \n",
       "539          22     32  How many here have made the switch either for ...  \n",
       "540           1      0  I bought a refurbished samsung phone from Ebay...  \n",
       "541           2      2  screen doesnt function but seems to vibrate wh...  \n",
       "\n",
       "[542 rows x 6 columns]"
      ]
     },
     "execution_count": 79,
     "metadata": {},
     "output_type": "execute_result"
    }
   ],
   "source": [
    "co_df_check = pd.read_sql_query('SELECT * FROM posts;', con)\n",
    "# it's best to close the connection when finished\n",
    "con.close()\n",
    "co_df_check"
   ]
  },
  {
   "cell_type": "code",
   "execution_count": 80,
   "id": "bc837010",
   "metadata": {},
   "outputs": [
    {
     "data": {
      "text/plain": [
       "<Axes: ylabel='Frequency'>"
      ]
     },
     "execution_count": 80,
     "metadata": {},
     "output_type": "execute_result"
    },
    {
     "data": {
      "image/png": "[encoded data removed]",
      "text/plain": [
       "<Figure size 640x480 with 1 Axes>"
      ]
     },
     "metadata": {},
     "output_type": "display_data"
    }
   ],
   "source": [
    "co_df['score'].plot.hist(bins=20)"
   ]
  },
  {
   "cell_type": "code",
   "execution_count": 81,
   "id": "7fa89fac",
   "metadata": {},
   "outputs": [
    {
     "data": {
      "text/html": [
       "<div>\n",
       "<style scoped>\n",
       "    .dataframe tbody tr th:only-of-type {\n",
       "        vertical-align: middle;\n",
       "    }\n",
       "\n",
       "    .dataframe tbody tr th {\n",
       "        vertical-align: top;\n",
       "    }\n",
       "\n",
       "    .dataframe thead th {\n",
       "        text-align: right;\n",
       "    }\n",
       "</style>\n",
       "<table border=\"1\" class=\"dataframe\">\n",
       "  <thead>\n",
       "    <tr style=\"text-align: right;\">\n",
       "      <th></th>\n",
       "      <th>title</th>\n",
       "      <th>link</th>\n",
       "      <th>author</th>\n",
       "      <th>n_comments</th>\n",
       "      <th>score</th>\n",
       "      <th>text</th>\n",
       "    </tr>\n",
       "  </thead>\n",
       "  <tbody>\n",
       "    <tr>\n",
       "      <th>103</th>\n",
       "      <td>Now Brief is pointless</td>\n",
       "      <td>/r/samsung/comments/1j13brx/now_brief_is_point...</td>\n",
       "      <td>Joee0201</td>\n",
       "      <td>48</td>\n",
       "      <td>204</td>\n",
       "      <td>Now brief is the most pointless thing on my ph...</td>\n",
       "    </tr>\n",
       "    <tr>\n",
       "      <th>159</th>\n",
       "      <td>Can we all agree that the Samsung S10 was the ...</td>\n",
       "      <td>/r/samsung/comments/1izrd5n/can_we_all_agree_t...</td>\n",
       "      <td>YesterdayValuable641</td>\n",
       "      <td>162</td>\n",
       "      <td>233</td>\n",
       "      <td>And than, everything stopped.\\nSo... everythin...</td>\n",
       "    </tr>\n",
       "    <tr>\n",
       "      <th>294</th>\n",
       "      <td>Samsung Needs to Stop Handicapping Its Own Fla...</td>\n",
       "      <td>/r/samsung/comments/1ix3zvy/samsung_needs_to_s...</td>\n",
       "      <td>soumilr7</td>\n",
       "      <td>93</td>\n",
       "      <td>246</td>\n",
       "      <td>Samsung has been making some questionable deci...</td>\n",
       "    </tr>\n",
       "    <tr>\n",
       "      <th>389</th>\n",
       "      <td>Switched Sides. Perspective from a former iOS ...</td>\n",
       "      <td>/r/samsung/comments/1iuwy73/switched_sides_per...</td>\n",
       "      <td>Hooman-42</td>\n",
       "      <td>111</td>\n",
       "      <td>230</td>\n",
       "      <td>I got the S25 Ultra after trading in my iPhone...</td>\n",
       "    </tr>\n",
       "    <tr>\n",
       "      <th>396</th>\n",
       "      <td>BF set up my phone and I can't fix his prank</td>\n",
       "      <td>/r/samsung/comments/1iutnvr/bf_set_up_my_phone...</td>\n",
       "      <td>CatsMeowuwu</td>\n",
       "      <td>66</td>\n",
       "      <td>205</td>\n",
       "      <td>He made it so my phone will blast music from S...</td>\n",
       "    </tr>\n",
       "    <tr>\n",
       "      <th>415</th>\n",
       "      <td>Secure Folder is not secure and files can be a...</td>\n",
       "      <td>/r/samsung/comments/1iuif80/secure_folder_is_n...</td>\n",
       "      <td>lawyerz88</td>\n",
       "      <td>36</td>\n",
       "      <td>253</td>\n",
       "      <td>Just FYI, coming from pixel, I expected secure...</td>\n",
       "    </tr>\n",
       "    <tr>\n",
       "      <th>457</th>\n",
       "      <td>Finally!!! From iPhone 15 Pro Max to S25 Ultra...</td>\n",
       "      <td>/r/samsung/comments/1itbij0/finally_from_iphon...</td>\n",
       "      <td>Relevant_Lecture_86</td>\n",
       "      <td>166</td>\n",
       "      <td>520</td>\n",
       "      <td>https://preview.redd.it/l76aszopu4ke1.jpg?widt...</td>\n",
       "    </tr>\n",
       "    <tr>\n",
       "      <th>525</th>\n",
       "      <td>S25 Ultra Return Nightmare</td>\n",
       "      <td>/r/samsung/comments/1irw6tu/s25_ultra_return_n...</td>\n",
       "      <td>Complete_Virus4649</td>\n",
       "      <td>130</td>\n",
       "      <td>249</td>\n",
       "      <td>I decided to return my S25 Ultra because I did...</td>\n",
       "    </tr>\n",
       "  </tbody>\n",
       "</table>\n",
       "</div>"
      ],
      "text/plain": [
       "                                                 title  \\\n",
       "103                             Now Brief is pointless   \n",
       "159  Can we all agree that the Samsung S10 was the ...   \n",
       "294  Samsung Needs to Stop Handicapping Its Own Fla...   \n",
       "389  Switched Sides. Perspective from a former iOS ...   \n",
       "396       BF set up my phone and I can't fix his prank   \n",
       "415  Secure Folder is not secure and files can be a...   \n",
       "457  Finally!!! From iPhone 15 Pro Max to S25 Ultra...   \n",
       "525                         S25 Ultra Return Nightmare   \n",
       "\n",
       "                                                  link                author  \\\n",
       "103  /r/samsung/comments/1j13brx/now_brief_is_point...              Joee0201   \n",
       "159  /r/samsung/comments/1izrd5n/can_we_all_agree_t...  YesterdayValuable641   \n",
       "294  /r/samsung/comments/1ix3zvy/samsung_needs_to_s...              soumilr7   \n",
       "389  /r/samsung/comments/1iuwy73/switched_sides_per...             Hooman-42   \n",
       "396  /r/samsung/comments/1iutnvr/bf_set_up_my_phone...           CatsMeowuwu   \n",
       "415  /r/samsung/comments/1iuif80/secure_folder_is_n...             lawyerz88   \n",
       "457  /r/samsung/comments/1itbij0/finally_from_iphon...   Relevant_Lecture_86   \n",
       "525  /r/samsung/comments/1irw6tu/s25_ultra_return_n...    Complete_Virus4649   \n",
       "\n",
       "     n_comments  score                                               text  \n",
       "103          48    204  Now brief is the most pointless thing on my ph...  \n",
       "159         162    233  And than, everything stopped.\\nSo... everythin...  \n",
       "294          93    246  Samsung has been making some questionable deci...  \n",
       "389         111    230  I got the S25 Ultra after trading in my iPhone...  \n",
       "396          66    205  He made it so my phone will blast music from S...  \n",
       "415          36    253  Just FYI, coming from pixel, I expected secure...  \n",
       "457         166    520  https://preview.redd.it/l76aszopu4ke1.jpg?widt...  \n",
       "525         130    249  I decided to return my S25 Ultra because I did...  "
      ]
     },
     "execution_count": 81,
     "metadata": {},
     "output_type": "execute_result"
    }
   ],
   "source": [
    "co_df[co_df['score'] > 200]"
   ]
  },
  {
   "cell_type": "code",
   "execution_count": 82,
   "id": "9ac21d9b",
   "metadata": {},
   "outputs": [
    {
     "data": {
      "text/plain": [
       "['/r/samsung/comments/1j13brx/now_brief_is_pointless/',\n",
       " '/r/samsung/comments/1izrd5n/can_we_all_agree_that_the_samsung_s10_was_the/',\n",
       " '/r/samsung/comments/1ix3zvy/samsung_needs_to_stop_handicapping_its_own/',\n",
       " '/r/samsung/comments/1iuwy73/switched_sides_perspective_from_a_former_ios_user/',\n",
       " '/r/samsung/comments/1iutnvr/bf_set_up_my_phone_and_i_cant_fix_his_prank/',\n",
       " '/r/samsung/comments/1iuif80/secure_folder_is_not_secure_and_files_can_be/',\n",
       " '/r/samsung/comments/1itbij0/finally_from_iphone_15_pro_max_to_s25_ultra/',\n",
       " '/r/samsung/comments/1irw6tu/s25_ultra_return_nightmare/']"
      ]
     },
     "execution_count": 82,
     "metadata": {},
     "output_type": "execute_result"
    }
   ],
   "source": [
    "co_df[co_df['score'] > 200]['link'].to_list()"
   ]
  },
  {
   "cell_type": "code",
   "execution_count": 83,
   "id": "b711f50a",
   "metadata": {},
   "outputs": [
    {
     "data": {
      "text/plain": [
       "<Axes: >"
      ]
     },
     "execution_count": 83,
     "metadata": {},
     "output_type": "execute_result"
    },
    {
     "data": {
      "image/png": "[encoded data removed]",
      "text/plain": [
       "<Figure size 640x480 with 1 Axes>"
      ]
     },
     "metadata": {},
     "output_type": "display_data"
    }
   ],
   "source": [
    "co_df.boxplot('n_comments')"
   ]
  },
  {
   "cell_type": "code",
   "execution_count": 84,
   "id": "99bcee0f",
   "metadata": {},
   "outputs": [
    {
     "data": {
      "image/png": "[encoded data removed]",
      "text/plain": [
       "<Figure size 640x480 with 1 Axes>"
      ]
     },
     "metadata": {},
     "output_type": "display_data"
    }
   ],
   "source": [
    "import matplotlib.pyplot as plt\n",
    "co_df.boxplot('n_comments')\n",
    "plt.yscale('log')"
   ]
  },
  {
   "cell_type": "code",
   "execution_count": 85,
   "id": "5c3eb5dc",
   "metadata": {},
   "outputs": [
    {
     "data": {
      "text/plain": [
       "<Axes: xlabel='score', ylabel='n_comments'>"
      ]
     },
     "execution_count": 85,
     "metadata": {},
     "output_type": "execute_result"
    },
    {
     "data": {
      "image/png": "[encoded data removed]",
      "text/plain": [
       "<Figure size 640x480 with 1 Axes>"
      ]
     },
     "metadata": {},
     "output_type": "display_data"
    }
   ],
   "source": [
    "co_df.plot.scatter(x='score', y='n_comments')"
   ]
  },
  {
   "cell_type": "code",
   "execution_count": 86,
   "id": "e5950819",
   "metadata": {},
   "outputs": [
    {
     "data": {
      "text/plain": [
       "<Axes: xlabel='author'>"
      ]
     },
     "execution_count": 86,
     "metadata": {},
     "output_type": "execute_result"
    },
    {
     "data": {
      "image/png": "[encoded data removed]",
      "text/plain": [
       "<Figure size 640x480 with 1 Axes>"
      ]
     },
     "metadata": {},
     "output_type": "display_data"
    }
   ],
   "source": [
    "co_df['author'].value_counts()[:10].plot.bar()"
   ]
  },
  {
   "cell_type": "code",
   "execution_count": 87,
   "id": "f1e87f49",
   "metadata": {},
   "outputs": [
    {
     "data": {
      "text/html": [
       "<div>\n",
       "<style scoped>\n",
       "    .dataframe tbody tr th:only-of-type {\n",
       "        vertical-align: middle;\n",
       "    }\n",
       "\n",
       "    .dataframe tbody tr th {\n",
       "        vertical-align: top;\n",
       "    }\n",
       "\n",
       "    .dataframe thead th {\n",
       "        text-align: right;\n",
       "    }\n",
       "</style>\n",
       "<table border=\"1\" class=\"dataframe\">\n",
       "  <thead>\n",
       "    <tr style=\"text-align: right;\">\n",
       "      <th></th>\n",
       "      <th>title</th>\n",
       "      <th>link</th>\n",
       "      <th>author</th>\n",
       "      <th>n_comments</th>\n",
       "      <th>score</th>\n",
       "      <th>text</th>\n",
       "    </tr>\n",
       "  </thead>\n",
       "  <tbody>\n",
       "    <tr>\n",
       "      <th>415</th>\n",
       "      <td>Secure Folder is not secure and files can be a...</td>\n",
       "      <td>/r/samsung/comments/1iuif80/secure_folder_is_n...</td>\n",
       "      <td>lawyerz88</td>\n",
       "      <td>36</td>\n",
       "      <td>253</td>\n",
       "      <td>Just FYI, coming from pixel, I expected secure...</td>\n",
       "    </tr>\n",
       "  </tbody>\n",
       "</table>\n",
       "</div>"
      ],
      "text/plain": [
       "                                                 title  \\\n",
       "415  Secure Folder is not secure and files can be a...   \n",
       "\n",
       "                                                  link     author  n_comments  \\\n",
       "415  /r/samsung/comments/1iuif80/secure_folder_is_n...  lawyerz88          36   \n",
       "\n",
       "     score                                               text  \n",
       "415    253  Just FYI, coming from pixel, I expected secure...  "
      ]
     },
     "execution_count": 87,
     "metadata": {},
     "output_type": "execute_result"
    }
   ],
   "source": [
    "co_df[co_df['author'] == 'lawyerz88']"
   ]
  },
  {
   "cell_type": "code",
   "execution_count": 88,
   "id": "bd393ddc",
   "metadata": {},
   "outputs": [
    {
     "data": {
      "text/plain": [
       "[('the', 106),\n",
       " ('to', 105),\n",
       " ('Samsung', 102),\n",
       " ('on', 70),\n",
       " ('a', 68),\n",
       " ('for', 64),\n",
       " ('S25', 59),\n",
       " ('Galaxy', 48),\n",
       " ('Ultra', 47),\n",
       " ('in', 45),\n",
       " ('I', 43),\n",
       " ('is', 40),\n",
       " ('and', 39),\n",
       " ('my', 38),\n",
       " ('Is', 36),\n",
       " ('from', 35),\n",
       " ('with', 33),\n",
       " ('S24', 29),\n",
       " ('or', 28),\n",
       " ('of', 28)]"
      ]
     },
     "execution_count": 88,
     "metadata": {},
     "output_type": "execute_result"
    }
   ],
   "source": [
    "import nltk\n",
    "\n",
    "fd = nltk.FreqDist(' '.join(co_df['title']).split())\n",
    "\n",
    "fd.most_common(20)"
   ]
  },
  {
   "cell_type": "code",
   "execution_count": 89,
   "id": "33c71728",
   "metadata": {},
   "outputs": [
    {
     "data": {
      "text/plain": [
       "[('the', 106),\n",
       " ('to', 105),\n",
       " ('Samsung', 102),\n",
       " ('on', 70),\n",
       " ('a', 68),\n",
       " ('for', 64),\n",
       " ('S25', 59),\n",
       " ('Galaxy', 48),\n",
       " ('Ultra', 47),\n",
       " ('in', 45),\n",
       " ('I', 43),\n",
       " ('is', 40),\n",
       " ('and', 39),\n",
       " ('my', 38),\n",
       " ('Is', 36),\n",
       " ('from', 35),\n",
       " ('with', 33),\n",
       " ('S24', 29),\n",
       " ('or', 28),\n",
       " ('of', 28)]"
      ]
     },
     "execution_count": 89,
     "metadata": {},
     "output_type": "execute_result"
    }
   ],
   "source": [
    "import nltk\n",
    "\n",
    "fd = nltk.FreqDist(' '.join(co_df['title']).split())\n",
    "\n",
    "fd.most_common(20)"
   ]
  },
  {
   "cell_type": "code",
   "execution_count": 90,
   "id": "2fedba98",
   "metadata": {},
   "outputs": [
    {
     "data": {
      "text/plain": [
       "<Axes: xlabel='Samples', ylabel='Counts'>"
      ]
     },
     "execution_count": 90,
     "metadata": {},
     "output_type": "execute_result"
    },
    {
     "data": {
      "image/png": "[encoded data removed]",
      "text/plain": [
       "<Figure size 640x480 with 1 Axes>"
      ]
     },
     "metadata": {},
     "output_type": "display_data"
    }
   ],
   "source": [
    "fd.plot(20)"
   ]
  },
  {
   "cell_type": "code",
   "execution_count": 91,
   "id": "06eeaf04",
   "metadata": {},
   "outputs": [
    {
     "name": "stderr",
     "output_type": "stream",
     "text": [
      "[nltk_data] Downloading package stopwords to\n",
      "[nltk_data]     C:\\Users\\harsh\\AppData\\Roaming\\nltk_data...\n",
      "[nltk_data]   Package stopwords is already up-to-date!\n"
     ]
    },
    {
     "data": {
      "text/plain": [
       "True"
      ]
     },
     "execution_count": 91,
     "metadata": {},
     "output_type": "execute_result"
    }
   ],
   "source": [
    "nltk.download('stopwords')"
   ]
  },
  {
   "cell_type": "code",
   "execution_count": 92,
   "id": "b16cb225",
   "metadata": {},
   "outputs": [
    {
     "data": {
      "text/plain": [
       "['a',\n",
       " 'about',\n",
       " 'above',\n",
       " 'after',\n",
       " 'again',\n",
       " 'against',\n",
       " 'ain',\n",
       " 'all',\n",
       " 'am',\n",
       " 'an',\n",
       " 'and',\n",
       " 'any',\n",
       " 'are',\n",
       " 'aren',\n",
       " \"aren't\",\n",
       " 'as',\n",
       " 'at',\n",
       " 'be',\n",
       " 'because',\n",
       " 'been',\n",
       " 'before',\n",
       " 'being',\n",
       " 'below',\n",
       " 'between',\n",
       " 'both',\n",
       " 'but',\n",
       " 'by',\n",
       " 'can',\n",
       " 'couldn',\n",
       " \"couldn't\",\n",
       " 'd',\n",
       " 'did',\n",
       " 'didn',\n",
       " \"didn't\",\n",
       " 'do',\n",
       " 'does',\n",
       " 'doesn',\n",
       " \"doesn't\",\n",
       " 'doing',\n",
       " 'don',\n",
       " \"don't\",\n",
       " 'down',\n",
       " 'during',\n",
       " 'each',\n",
       " 'few',\n",
       " 'for',\n",
       " 'from',\n",
       " 'further',\n",
       " 'had',\n",
       " 'hadn',\n",
       " \"hadn't\",\n",
       " 'has',\n",
       " 'hasn',\n",
       " \"hasn't\",\n",
       " 'have',\n",
       " 'haven',\n",
       " \"haven't\",\n",
       " 'having',\n",
       " 'he',\n",
       " \"he'd\",\n",
       " \"he'll\",\n",
       " 'her',\n",
       " 'here',\n",
       " 'hers',\n",
       " 'herself',\n",
       " \"he's\",\n",
       " 'him',\n",
       " 'himself',\n",
       " 'his',\n",
       " 'how',\n",
       " 'i',\n",
       " \"i'd\",\n",
       " 'if',\n",
       " \"i'll\",\n",
       " \"i'm\",\n",
       " 'in',\n",
       " 'into',\n",
       " 'is',\n",
       " 'isn',\n",
       " \"isn't\",\n",
       " 'it',\n",
       " \"it'd\",\n",
       " \"it'll\",\n",
       " \"it's\",\n",
       " 'its',\n",
       " 'itself',\n",
       " \"i've\",\n",
       " 'just',\n",
       " 'll',\n",
       " 'm',\n",
       " 'ma',\n",
       " 'me',\n",
       " 'mightn',\n",
       " \"mightn't\",\n",
       " 'more',\n",
       " 'most',\n",
       " 'mustn',\n",
       " \"mustn't\",\n",
       " 'my',\n",
       " 'myself',\n",
       " 'needn',\n",
       " \"needn't\",\n",
       " 'no',\n",
       " 'nor',\n",
       " 'not',\n",
       " 'now',\n",
       " 'o',\n",
       " 'of',\n",
       " 'off',\n",
       " 'on',\n",
       " 'once',\n",
       " 'only',\n",
       " 'or',\n",
       " 'other',\n",
       " 'our',\n",
       " 'ours',\n",
       " 'ourselves',\n",
       " 'out',\n",
       " 'over',\n",
       " 'own',\n",
       " 're',\n",
       " 's',\n",
       " 'same',\n",
       " 'shan',\n",
       " \"shan't\",\n",
       " 'she',\n",
       " \"she'd\",\n",
       " \"she'll\",\n",
       " \"she's\",\n",
       " 'should',\n",
       " 'shouldn',\n",
       " \"shouldn't\",\n",
       " \"should've\",\n",
       " 'so',\n",
       " 'some',\n",
       " 'such',\n",
       " 't',\n",
       " 'than',\n",
       " 'that',\n",
       " \"that'll\",\n",
       " 'the',\n",
       " 'their',\n",
       " 'theirs',\n",
       " 'them',\n",
       " 'themselves',\n",
       " 'then',\n",
       " 'there',\n",
       " 'these',\n",
       " 'they',\n",
       " \"they'd\",\n",
       " \"they'll\",\n",
       " \"they're\",\n",
       " \"they've\",\n",
       " 'this',\n",
       " 'those',\n",
       " 'through',\n",
       " 'to',\n",
       " 'too',\n",
       " 'under',\n",
       " 'until',\n",
       " 'up',\n",
       " 've',\n",
       " 'very',\n",
       " 'was',\n",
       " 'wasn',\n",
       " \"wasn't\",\n",
       " 'we',\n",
       " \"we'd\",\n",
       " \"we'll\",\n",
       " \"we're\",\n",
       " 'were',\n",
       " 'weren',\n",
       " \"weren't\",\n",
       " \"we've\",\n",
       " 'what',\n",
       " 'when',\n",
       " 'where',\n",
       " 'which',\n",
       " 'while',\n",
       " 'who',\n",
       " 'whom',\n",
       " 'why',\n",
       " 'will',\n",
       " 'with',\n",
       " 'won',\n",
       " \"won't\",\n",
       " 'wouldn',\n",
       " \"wouldn't\",\n",
       " 'y',\n",
       " 'you',\n",
       " \"you'd\",\n",
       " \"you'll\",\n",
       " 'your',\n",
       " \"you're\",\n",
       " 'yours',\n",
       " 'yourself',\n",
       " 'yourselves',\n",
       " \"you've\"]"
      ]
     },
     "execution_count": 92,
     "metadata": {},
     "output_type": "execute_result"
    }
   ],
   "source": [
    "from nltk.corpus import stopwords\n",
    "\n",
    "stops = stopwords.words('english')\n",
    "stops"
   ]
  },
  {
   "cell_type": "code",
   "execution_count": 93,
   "id": "d0695d47",
   "metadata": {},
   "outputs": [],
   "source": [
    "words = ' '.join(co_df['title']).lower().split()\n",
    "cleaned_words = [w for w in words if w not in set(stops)]"
   ]
  },
  {
   "cell_type": "code",
   "execution_count": 94,
   "id": "0fd81418",
   "metadata": {},
   "outputs": [
    {
     "data": {
      "text/plain": [
       "[('samsung', 128),\n",
       " ('s25', 74),\n",
       " ('galaxy', 67),\n",
       " ('ultra', 61),\n",
       " ('s24', 33),\n",
       " ('phone', 31),\n",
       " ('screen', 24),\n",
       " ('2025', 20),\n",
       " ('vs', 20),\n",
       " ('-', 20),\n",
       " ('support', 18),\n",
       " ('new', 18),\n",
       " ('daily', 17),\n",
       " ('thread', 16),\n",
       " ('|', 16),\n",
       " ('watch', 14),\n",
       " ('use', 14),\n",
       " ('iphone', 13),\n",
       " ('one', 13),\n",
       " ('charging', 13)]"
      ]
     },
     "execution_count": 94,
     "metadata": {},
     "output_type": "execute_result"
    }
   ],
   "source": [
    "cleaned_fd = nltk.FreqDist(cleaned_words)\n",
    "cleaned_fd.most_common(20)"
   ]
  },
  {
   "cell_type": "code",
   "execution_count": 95,
   "id": "f53f6de5",
   "metadata": {},
   "outputs": [
    {
     "data": {
      "text/plain": [
       "<Axes: xlabel='Samples', ylabel='Counts'>"
      ]
     },
     "execution_count": 95,
     "metadata": {},
     "output_type": "execute_result"
    },
    {
     "data": {
      "image/png": "[encoded data removed]",
      "text/plain": [
       "<Figure size 640x480 with 1 Axes>"
      ]
     },
     "metadata": {},
     "output_type": "display_data"
    }
   ],
   "source": [
    "cleaned_fd.plot(20)"
   ]
  },
  {
   "cell_type": "markdown",
   "id": "528275fa",
   "metadata": {},
   "source": [
    "#  Summary"
   ]
  },
  {
   "cell_type": "markdown",
   "id": "ef7a0624",
   "metadata": {},
   "source": [
    "# Overview\n",
    "\n",
    "The task involves collecting data from a subreddit using the Reddit API and performing exploratory data analysis (EDA).\n",
    "\n",
    "  The collected data is stored in a SQLite3 database.\n",
    "\n",
    "  Basic EDA includes creating at least two visualizations.\n",
    "\n",
    "  A short analysis is required at the end to summarize findings.\n",
    "\n",
    "# Key Tasks\n",
    "\n",
    "1.Reddit API Setup\n",
    "\n",
    "  Requires creating a Reddit account and API keys.\n",
    "\n",
    "  Uses the praw library for data extraction.\n",
    "\n",
    "  The notebook imports necessary libraries like pandas, matplotlib, wordcloud, and textblob.\n",
    "\n",
    "2.Data Collection\n",
    "\n",
    "  The subreddit \"Samsung\" is used as an example.\n",
    "\n",
    "  Extracts hot posts from the subreddit, with a limit of 10.\n",
    "\n",
    "  Prints post titles and scores.\n",
    "\n",
    "3.Data Processing and Storage\n",
    "\n",
    "  Saves the extracted posts in a structured format.\n",
    "\n",
    "  Uses SQLite3 for database storage.\n",
    "\n",
    "4.Exploratory Data Analysis (EDA)\n",
    "\n",
    "  Expected to include two plots (not extracted in this summary but likely visualizations of post engagement).\n",
    "\n"
   ]
  }
 ],
 "metadata": {
  "kernelspec": {
   "display_name": "base",
   "language": "python",
   "name": "python3"
  },
  "language_info": {
   "codemirror_mode": {
    "name": "ipython",
    "version": 3
   },
   "file_extension": ".py",
   "mimetype": "text/x-python",
   "name": "python",
   "nbconvert_exporter": "python",
   "pygments_lexer": "ipython3",
   "version": "3.12.3"
  }
 },
 "nbformat": 4,
 "nbformat_minor": 5
}
